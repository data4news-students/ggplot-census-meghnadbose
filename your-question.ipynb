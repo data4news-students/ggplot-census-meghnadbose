{
 "cells": [
  {
   "cell_type": "markdown",
   "metadata": {},
   "source": [
    "## Setup"
   ]
  },
  {
   "cell_type": "code",
   "execution_count": 40,
   "metadata": {},
   "outputs": [
    {
     "name": "stdout",
     "output_type": "stream",
     "text": [
      "The rpy2.ipython extension is already loaded. To reload it, use:\n",
      "  %reload_ext rpy2.ipython\n",
      "The autoreload extension is already loaded. To reload it, use:\n",
      "  %reload_ext autoreload\n"
     ]
    }
   ],
   "source": [
    "%load_ext rpy2.ipython\n",
    "%load_ext autoreload\n",
    "%autoreload 2\n",
    "\n",
    "%matplotlib inline  \n",
    "from matplotlib import rcParams\n",
    "rcParams['figure.figsize'] = (16, 100)\n",
    "\n",
    "import warnings\n",
    "from rpy2.rinterface import RRuntimeWarning\n",
    "warnings.filterwarnings(\"ignore\") # Ignore all warnings\n",
    "# warnings.filterwarnings(\"ignore\", category=RRuntimeWarning) # Show some warnings\n",
    "\n",
    "import pandas as pd\n",
    "import numpy as np\n",
    "import matplotlib.pyplot as plt\n",
    "from IPython.display import display, HTML"
   ]
  },
  {
   "cell_type": "code",
   "execution_count": 41,
   "metadata": {},
   "outputs": [
    {
     "data": {
      "application/javascript": "// Disable auto-scrolling\nIPython.OutputArea.prototype._should_scroll = function(lines) {\n    return false;\n}\n",
      "text/plain": [
       "<IPython.core.display.Javascript object>"
      ]
     },
     "metadata": {},
     "output_type": "display_data"
    }
   ],
   "source": [
    "%%javascript\n",
    "// Disable auto-scrolling\n",
    "IPython.OutputArea.prototype._should_scroll = function(lines) {\n",
    "    return false;\n",
    "}"
   ]
  },
  {
   "cell_type": "markdown",
   "metadata": {},
   "source": [
    "## TidyCensus Example\n",
    "\n",
    "This notebook grabs data from the US Census using the [tidycensus package in R](https://walker-data.com/tidycensus/index.html). Make sure you have installed the `tidyverse` and `tidycensus` packages."
   ]
  },
  {
   "cell_type": "code",
   "execution_count": 42,
   "metadata": {},
   "outputs": [],
   "source": [
    "%%R \n",
    "\n",
    "library(tidycensus)\n",
    "library(tidyverse)"
   ]
  },
  {
   "cell_type": "markdown",
   "metadata": {},
   "source": [
    "### Step 1 \\| Get a Census API key and replace it in the cell below"
   ]
  },
  {
   "cell_type": "code",
   "execution_count": 43,
   "metadata": {},
   "outputs": [
    {
     "data": {
      "text/plain": [
       "To install your API key for use in future sessions, run this function with `install = TRUE`.\n"
      ]
     },
     "metadata": {},
     "output_type": "display_data"
    }
   ],
   "source": [
    "%%R \n",
    "\n",
    "census_api_key(\"8a79f7c668048c4bf2396e1f329354150de8590f\")"
   ]
  },
  {
   "cell_type": "markdown",
   "metadata": {},
   "source": [
    "### Step 2 \\| Figure out what tables you want data from and at what geographic granularity\n",
    "\n",
    "Use <https://censusreporter.org/> to figure out which tables you want.\n",
    "\n",
    "-   Scroll to the bottom of the page to see the tables.\n",
    "-   If you already know the table ID, stick that in the \"Explore\" section to learn more about that table.\n",
    "\n",
    "Note, you probably always want population variable (B01003_001) which we found in censusreporter here: https://censusreporter.org/tables/B01003/\n",
    "\n",
    "- find some other variables that you're also interested in\n",
    "- don't forget to pick a geography like \"tract\", \"county\" or \"block group\". here is the list of [all geographies](https://walker-data.com/tidycensus/articles/basic-usage.html#geography-in-tidycensus\n",
    ").\n",
    "\n",
    "👉 use the code from the example notebooks to get the variables you're interested in. feel free to use ChatGPT for help"
   ]
  },
  {
   "cell_type": "code",
   "execution_count": 1,
   "metadata": {},
   "outputs": [
    {
     "name": "stderr",
     "output_type": "stream",
     "text": [
      "UsageError: Cell magic `%%R` not found.\n"
     ]
    }
   ],
   "source": [
    "%%R \n",
    "\n",
    "# this code is incomplete, refer to example notebooks\n",
    "# and use chat gpt for help getting census variables\n",
    "nyc_census_data <- get_acs()\n",
    "\n",
    "nyc_census_data\n"
   ]
  },
  {
   "cell_type": "markdown",
   "metadata": {},
   "source": [
    "### Step 3 | Pivot to Wide Format\n",
    "\n",
    "Pivot from long to wide using `pivot_wider`.\n",
    "\n",
    "Depending on what you're trying to do, you may want the data in long or wide format. This example pivots the data to wide format, which will help us with mapping later on in the notebook."
   ]
  },
  {
   "cell_type": "code",
   "execution_count": 45,
   "metadata": {},
   "outputs": [
    {
     "name": "stdout",
     "output_type": "stream",
     "text": [
      "Simple feature collection with 2327 features and 8 fields (with 1 geometry empty)\n",
      "Geometry type: MULTIPOLYGON\n",
      "Dimension:     XY\n",
      "Bounding box:  xmin: -74.25609 ymin: 40.4961 xmax: -73.70036 ymax: 40.91771\n",
      "Geodetic CRS:  NAD83\n",
      "# A tibble: 2,327 × 9\n",
      "   GEOID    NAME                   geometry population_estimate med_inc_estimate\n",
      "   <chr>    <chr>        <MULTIPOLYGON [°]>               <dbl>            <dbl>\n",
      " 1 3608101… Cens… (((-73.9137 40.76548, -7…                2863            71815\n",
      " 2 3604705… Cens… (((-73.96103 40.59616, -…                3655            67315\n",
      " 3 3606100… Cens… (((-74.02064 40.73039, -…                2450           237500\n",
      " 4 3604707… Cens… (((-73.93345 40.6257, -7…                2676           117857\n",
      " 5 3604710… Cens… (((-73.90735 40.63083, -…                3004            76207\n",
      " 6 3604705… Cens… (((-73.96279 40.72256, -…                1834           107410\n",
      " 7 3600502… Cens… (((-73.92012 40.83759, -…                4030            37200\n",
      " 8 3608104… Cens… (((-73.78059 40.71343, -…                3637            50000\n",
      " 9 3604705… Cens… (((-73.97496 40.6478, -7…                1758           134602\n",
      "10 3604702… Cens… (((-73.94439 40.70043, -…                 356            50278\n",
      "# ℹ 2,317 more rows\n",
      "# ℹ 4 more variables: total_units_estimate <dbl>, population_moe <dbl>,\n",
      "#   med_inc_moe <dbl>, total_units_moe <dbl>\n",
      "# ℹ Use `print(n = ...)` to see more rows\n"
     ]
    }
   ],
   "source": [
    "%%R \n",
    "\n",
    "nyc_census_data <- nyc_census_data %>% \n",
    "  pivot_wider(\n",
    "    names_from=variable, \n",
    "    values_from = c(estimate, moe),\n",
    "    names_glue = \"{variable}_{.value}\"\n",
    "  )# pivot from wide to long\n",
    "\n",
    "nyc_census_data"
   ]
  },
  {
   "cell_type": "markdown",
   "metadata": {},
   "source": [
    "### Step 4 | Do calculations with `mutate`\n",
    "\n",
    "In R, you can use `mutate` to create new columns or modify existing ones.\n",
    "\n",
    "👉 In this step, do any calculations you need (for example if you have the total black population, but you want it as a percent of total population in a census tract, you may have to do some division)"
   ]
  },
  {
   "cell_type": "code",
   "execution_count": 46,
   "metadata": {},
   "outputs": [
    {
     "name": "stdout",
     "output_type": "stream",
     "text": [
      "Simple feature collection with 2327 features and 10 fields"
     ]
    },
    {
     "name": "stdout",
     "output_type": "stream",
     "text": [
      " (with 1 geometry empty)\n",
      "Geometry type: MULTIPOLYGON\n",
      "Dimension:     XY\n",
      "Bounding box:  xmin: -74.25609 ymin: 40.4961 xmax: -73.70036 ymax: 40.91771\n",
      "Geodetic CRS:  NAD83\n",
      "# A tibble: 2,327 × 11\n",
      "   GEOID    NAME                   geometry population_estimate med_inc_estimate\n",
      " * <chr>    <chr>        <MULTIPOLYGON [°]>               <dbl>            <dbl>\n",
      " 1 3608101… Cens… (((-73.9137 40.76548, -7…                2863            71815\n",
      " 2 3604705… Cens… (((-73.96103 40.59616, -…                3655            67315\n",
      " 3 3606100… Cens… (((-74.02064 40.73039, -…                2450           237500\n",
      " 4 3604707… Cens… (((-73.93345 40.6257, -7…                2676           117857\n",
      " 5 3604710… Cens… (((-73.90735 40.63083, -…                3004            76207\n",
      " 6 3604705… Cens… (((-73.96279 40.72256, -…                1834           107410\n",
      " 7 3600502… Cens… (((-73.92012 40.83759, -…                4030            37200\n",
      " 8 3608104… Cens… (((-73.78059 40.71343, -…                3637            50000\n",
      " 9 3604705… Cens… (((-73.97496 40.6478, -7…                1758           134602\n",
      "10 3604702… Cens… (((-73.94439 40.70043, -…                 356            50278\n",
      "# ℹ 2,317 more rows\n",
      "# ℹ 6 more variables: total_units_estimate <dbl>, population_moe <dbl>,\n",
      "#   med_inc_moe <dbl>, total_units_moe <dbl>, borough <chr>,\n",
      "#   units_per_person <dbl>\n",
      "# ℹ Use `print(n = ...)` to see more rows\n"
     ]
    }
   ],
   "source": [
    "%%R \n",
    "\n",
    "# your code here. refer to example notebooks for help\n"
   ]
  },
  {
   "cell_type": "markdown",
   "metadata": {},
   "source": [
    "### Step 5 | Example Plots\n",
    "\n",
    "Use histograms or dotplots to view the distributions"
   ]
  },
  {
   "cell_type": "code",
   "execution_count": 2,
   "metadata": {},
   "outputs": [
    {
     "name": "stderr",
     "output_type": "stream",
     "text": [
      "UsageError: Cell magic `%%R` not found.\n"
     ]
    }
   ],
   "source": [
    "%%R -w 1000\n",
    "\n",
    "ggplot()\n",
    "\n",
    "\n",
    "# your code here. refer to example notebooks for help\n"
   ]
  },
  {
   "cell_type": "markdown",
   "metadata": {},
   "source": [
    "### Step 6 \\| Example Map\n",
    "\n",
    "See more details about making maps here:\n",
    "\n",
    "https://walker-data.com/tidycensus/articles/spatial-data.html"
   ]
  },
  {
   "cell_type": "code",
   "execution_count": 3,
   "metadata": {},
   "outputs": [
    {
     "name": "stderr",
     "output_type": "stream",
     "text": [
      "UsageError: Cell magic `%%R` not found.\n"
     ]
    }
   ],
   "source": [
    "%%R -w 1000 -h 1000\n",
    "\n",
    "# your code here. refer to example notebooks for help\n"
   ]
  }
 ],
 "metadata": {
  "kernelspec": {
   "display_name": "Python 3 (ipykernel)",
   "language": "python",
   "name": "python3"
  },
  "language_info": {
   "codemirror_mode": {
    "name": "ipython",
    "version": 3
   },
   "file_extension": ".py",
   "mimetype": "text/x-python",
   "name": "python",
   "nbconvert_exporter": "python",
   "pygments_lexer": "ipython3",
   "version": "3.12.0"
  }
 },
 "nbformat": 4,
 "nbformat_minor": 4
}
